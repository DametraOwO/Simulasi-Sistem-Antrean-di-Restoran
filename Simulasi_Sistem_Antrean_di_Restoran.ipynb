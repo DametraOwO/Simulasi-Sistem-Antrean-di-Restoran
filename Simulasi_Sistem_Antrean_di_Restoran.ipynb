{
  "nbformat": 4,
  "nbformat_minor": 0,
  "metadata": {
    "colab": {
      "provenance": [],
      "authorship_tag": "ABX9TyOfC5DvqdF0D+SlD+4r3Ioz",
      "include_colab_link": true
    },
    "kernelspec": {
      "name": "python3",
      "display_name": "Python 3"
    },
    "language_info": {
      "name": "python"
    }
  },
  "cells": [
    {
      "cell_type": "markdown",
      "metadata": {
        "id": "view-in-github",
        "colab_type": "text"
      },
      "source": [
        "<a href=\"https://colab.research.google.com/github/DametraOwO/Simulasi-Sistem-Antrean-di-Restoran/blob/main/Simulasi_Sistem_Antrean_di_Restoran.ipynb\" target=\"_parent\"><img src=\"https://colab.research.google.com/assets/colab-badge.svg\" alt=\"Open In Colab\"/></a>"
      ]
    },
    {
      "cell_type": "markdown",
      "source": [
        "**Simulasi Sistem Antrean di Restoran**"
      ],
      "metadata": {
        "id": "T8JasZHAnEd_"
      }
    },
    {
      "cell_type": "markdown",
      "source": [
        "Tujuan dari studi kasus ini adalah memodelkan perubahan kondisi antrean di sebuah restoran sepanjang waktu, berdasarkan probabilitas transisi antara tiga status: Kosong (K), Sedikit Antrean (SA), dan Banyak Antrean (BA)."
      ],
      "metadata": {
        "id": "_D-oOx0AnLxg"
      }
    },
    {
      "cell_type": "markdown",
      "source": [
        "**Matriks Transisi**"
      ],
      "metadata": {
        "id": "E9_a-MZyoiC-"
      }
    },
    {
      "cell_type": "markdown",
      "source": [
        "Diketahui:\n",
        "\n",
        "*  Jika restoran hari ini kosong, ada peluang 60% besok juga akan kosong, 30% peluang akan sedikit antrean, dan 10% peluang akan banyak antrean.\n",
        "*   Jika hari ini ada sedikit antrean, ada peluang 20% besok akan kosong, 50% peluang akan tetap sedikit antrean, dan 30% peluang banyak antrean.\n",
        "*   Jika hari ini banyak antrean, ada peluang 10% besok akan kosong, 40% peluang akan sedikit antrean, dan 50% peluang tetap banyak antrean.\n",
        "\n",
        "\n"
      ],
      "metadata": {
        "id": "b1UwkywFopkq"
      }
    },
    {
      "cell_type": "markdown",
      "source": [
        "Pertama import library terlebih dahulu"
      ],
      "metadata": {
        "id": "jfRK3DBqpERH"
      }
    },
    {
      "cell_type": "code",
      "source": [
        "from numpy import array, dot, isclose\n",
        "from matplotlib.pyplot import plot, show, figure, title, xlabel, ylabel, legend, grid\n",
        "from IPython.display import Math, display\n",
        "import sympy as sym\n",
        "from numpy.linalg import eig"
      ],
      "metadata": {
        "id": "ndUMw14FprbB"
      },
      "execution_count": 22,
      "outputs": []
    },
    {
      "cell_type": "markdown",
      "source": [
        "Dengan informasi ini, kita bisa menyusun matriks transisi\n",
        "𝑃\n",
        ":"
      ],
      "metadata": {
        "id": "oh_Ucfd3p1sj"
      }
    },
    {
      "cell_type": "code",
      "source": [
        "# Matriks Transisi untuk Sistem Antrean di Restoran\n",
        "P = array([[0.6, 0.3, 0.1],\n",
        "           [0.2, 0.5, 0.3],\n",
        "           [0.1, 0.4, 0.5]])\n",
        "print(\"Matriks P =\")\n",
        "display(Math(sym.latex(sym.simplify(P))))"
      ],
      "metadata": {
        "colab": {
          "base_uri": "https://localhost:8080/",
          "height": 95
        },
        "id": "-JdPewZdp35w",
        "outputId": "6107dbce-76c6-4d20-a1df-61e822e5739b"
      },
      "execution_count": null,
      "outputs": [
        {
          "output_type": "stream",
          "name": "stdout",
          "text": [
            "Matriks P =\n"
          ]
        },
        {
          "output_type": "display_data",
          "data": {
            "text/plain": [
              "<IPython.core.display.Math object>"
            ],
            "text/latex": "$\\displaystyle \\left[\\begin{matrix}0.6 & 0.3 & 0.1\\\\0.2 & 0.5 & 0.3\\\\0.1 & 0.4 & 0.5\\end{matrix}\\right]$"
          },
          "metadata": {}
        }
      ]
    },
    {
      "cell_type": "markdown",
      "source": [
        "Selanjutnya mari kita prediksi untuk hari pertama dan kedua"
      ],
      "metadata": {
        "id": "QWv-c98TrVJ3"
      }
    },
    {
      "cell_type": "code",
      "source": [
        "# Kondisi awal (Kosong)\n",
        "P0 = array([1, 0, 0])\n",
        "print(\"Matriks P0 =\")\n",
        "display(Math(sym.latex(sym.simplify(P0))))\n",
        "\n",
        "# Prediksi hari ke-2\n",
        "P1 = dot(P0, P)\n",
        "print(\"Matriks P1 =\")\n",
        "display(Math(sym.latex(sym.simplify(P1))))"
      ],
      "metadata": {
        "colab": {
          "base_uri": "https://localhost:8080/",
          "height": 94
        },
        "id": "91I23tEDrc3B",
        "outputId": "4e0cacf7-9b49-43b4-beb2-4dc10872162a"
      },
      "execution_count": null,
      "outputs": [
        {
          "output_type": "stream",
          "name": "stdout",
          "text": [
            "Matriks P0 =\n"
          ]
        },
        {
          "output_type": "display_data",
          "data": {
            "text/plain": [
              "<IPython.core.display.Math object>"
            ],
            "text/latex": "$\\displaystyle \\left[\\begin{matrix}1 & 0 & 0\\end{matrix}\\right]$"
          },
          "metadata": {}
        },
        {
          "output_type": "stream",
          "name": "stdout",
          "text": [
            "Matriks P1 =\n"
          ]
        },
        {
          "output_type": "display_data",
          "data": {
            "text/plain": [
              "<IPython.core.display.Math object>"
            ],
            "text/latex": "$\\displaystyle \\left[\\begin{matrix}0.6 & 0.3 & 0.1\\end{matrix}\\right]$"
          },
          "metadata": {}
        }
      ]
    },
    {
      "cell_type": "markdown",
      "source": [
        "Peluang hari ke-2 didapat dengan mengalikan kondisi awal dengan matriks transisi:\n",
        "\n",
        "𝑃\n",
        "1\n",
        "=\n",
        "𝑃\n",
        "0\n",
        "×\n",
        "𝑃\n",
        "𝑃\n",
        "1\n",
        "=\n",
        "[\n",
        "1\n",
        ",\n",
        "0\n",
        ",\n",
        "0\n",
        "]\n",
        "×\n",
        "[\n",
        "0.6\n",
        "0.3\n",
        "0.1\n",
        "0.2\n",
        "0.5\n",
        "0.3\n",
        "0.1\n",
        "0.4\n",
        "0.5\n",
        "]\n",
        "Hasil:\n",
        "\n",
        "𝑃\n",
        "1\n",
        "=\n",
        "[\n",
        "0.6\n",
        ",\n",
        "0.3\n",
        ",\n",
        "0.1\n",
        "]"
      ],
      "metadata": {
        "id": "hRr2OeOHryKM"
      }
    },
    {
      "cell_type": "code",
      "source": [
        "# Prediksi hari ke-3\n",
        "P_2 = dot(P, P)\n",
        "print(\"Matriks P_2 =\")\n",
        "P2 = dot(P0, P_2)\n",
        "display(Math(sym.latex(sym.simplify(P2))))\n"
      ],
      "metadata": {
        "colab": {
          "base_uri": "https://localhost:8080/",
          "height": 56
        },
        "id": "wtNjClUKschy",
        "outputId": "4a1c9f95-87b2-4053-a3eb-defe27f2267d"
      },
      "execution_count": null,
      "outputs": [
        {
          "output_type": "stream",
          "name": "stdout",
          "text": [
            "Matriks P_2 =\n"
          ]
        },
        {
          "output_type": "display_data",
          "data": {
            "text/plain": [
              "<IPython.core.display.Math object>"
            ],
            "text/latex": "$\\displaystyle \\left[\\begin{matrix}0.43 & 0.37 & 0.2\\end{matrix}\\right]$"
          },
          "metadata": {}
        }
      ]
    },
    {
      "cell_type": "markdown",
      "source": [
        "Peluang hari ke-3 didapat dengan mengalikan kondisi hari ke-2 dengan matriks transisi:\n",
        "\n",
        "𝑃\n",
        "2\n",
        "=\n",
        "𝑃\n",
        "1\n",
        "×\n",
        "𝑃\n",
        "𝑃\n",
        "2\n",
        "=\n",
        "[\n",
        "0.6\n",
        ",\n",
        "0.3\n",
        ",\n",
        "0.1\n",
        "]\n",
        "×\n",
        "[\n",
        "0.6\n",
        "0.3\n",
        "0.1\n",
        "0.2\n",
        "0.5\n",
        "0.3\n",
        "0.1\n",
        "0.4\n",
        "0.5\n",
        "]\n",
        "Hasil:\n",
        "\n",
        "𝑃\n",
        "2\n",
        "=\n",
        "[\n",
        "0.43\n",
        ",\n",
        "0.37\n",
        ",\n",
        "0.2\n",
        "]"
      ],
      "metadata": {
        "id": "Npm_SEtis0Ie"
      }
    },
    {
      "cell_type": "code",
      "source": [
        "# Prediksi hari ke-4\n",
        "P_3 = dot(P_2, P)\n",
        "print(\"Matriks P_3 =\")\n",
        "P3 = dot(P0, P_3)\n",
        "display(Math(sym.latex(sym.simplify(P3))))\n"
      ],
      "metadata": {
        "colab": {
          "base_uri": "https://localhost:8080/",
          "height": 56
        },
        "id": "J6-H0nSNs3pr",
        "outputId": "6fd8cfec-ae97-4e28-c069-e9d6b8c5e0af"
      },
      "execution_count": null,
      "outputs": [
        {
          "output_type": "stream",
          "name": "stdout",
          "text": [
            "Matriks P_3 =\n"
          ]
        },
        {
          "output_type": "display_data",
          "data": {
            "text/plain": [
              "<IPython.core.display.Math object>"
            ],
            "text/latex": "$\\displaystyle \\left[\\begin{matrix}0.352 & 0.394 & 0.254\\end{matrix}\\right]$"
          },
          "metadata": {}
        }
      ]
    },
    {
      "cell_type": "markdown",
      "source": [
        "Proses perhitungan hari ke-4 sama dengan mengalikan kondisi hari ke-3 dengan matriks transisi:\n",
        "\n",
        "𝑃\n",
        "3\n",
        "=\n",
        "𝑃\n",
        "2\n",
        "×\n",
        "𝑃\n",
        "𝑃\n",
        "3\n",
        "=\n",
        "[ 0.43 , 0.37 , 0.2 ]\n",
        "×\n",
        "[\n",
        "0.6\n",
        "0.3\n",
        "0.1\n",
        "0.2\n",
        "0.5\n",
        "0.3\n",
        "0.1\n",
        "0.4\n",
        "0.5\n",
        "]\n",
        "Hasil:\n",
        "\n",
        "𝑃\n",
        "3\n",
        "=\n",
        "[\n",
        "0.352\n",
        ",\n",
        "0.394\n",
        ",\n",
        "0.254\n",
        "]"
      ],
      "metadata": {
        "id": "ykWt4fUKuiCX"
      }
    },
    {
      "cell_type": "code",
      "source": [
        "# Prediksi hari ke-5\n",
        "P_4 = dot(P_3, P)\n",
        "print(\"Matriks P_4 =\")\n",
        "P4 = dot(P0, P_4)\n",
        "display(Math(sym.latex(sym.simplify(P4))))"
      ],
      "metadata": {
        "colab": {
          "base_uri": "https://localhost:8080/",
          "height": 56
        },
        "id": "x8ZtD9hgtFt8",
        "outputId": "3d3485df-276d-46b0-8b25-f13f9f3dcd8f"
      },
      "execution_count": null,
      "outputs": [
        {
          "output_type": "stream",
          "name": "stdout",
          "text": [
            "Matriks P_4 =\n"
          ]
        },
        {
          "output_type": "display_data",
          "data": {
            "text/plain": [
              "<IPython.core.display.Math object>"
            ],
            "text/latex": "$\\displaystyle \\left[\\begin{matrix}0.3154 & 0.4042 & 0.2804\\end{matrix}\\right]$"
          },
          "metadata": {}
        }
      ]
    },
    {
      "cell_type": "markdown",
      "source": [
        "Peluang hari ke-5 dengan mengalikan kondisi hari ke-4 dengan matriks transisi:\n",
        "\n",
        "𝑃\n",
        "4\n",
        "=\n",
        "𝑃\n",
        "3\n",
        "×\n",
        "𝑃\n",
        "𝑃\n",
        "4\n",
        "=\n",
        " [ 0.352 , 0.394 , 0.254 ]\n",
        "×\n",
        "[\n",
        "0.6\n",
        "0.3\n",
        "0.1\n",
        "0.2\n",
        "0.5\n",
        "0.3\n",
        "0.1\n",
        "0.4\n",
        "0.5\n",
        "]\n",
        "Hasil:\n",
        "\n",
        "𝑃\n",
        "4\n",
        "=\n",
        "[\n",
        "0.3154\n",
        ",\n",
        "0.4042\n",
        ",\n",
        "0.2804\n",
        "]"
      ],
      "metadata": {
        "id": "H2EvztScur36"
      }
    },
    {
      "cell_type": "code",
      "source": [
        "# Prediksi hari ke-6\n",
        "P_5 = dot(P_4, P)\n",
        "print(\"Matriks P_5 =\")\n",
        "P5 = dot(P0, P_5)\n",
        "display(Math(sym.latex(sym.simplify(P5))))"
      ],
      "metadata": {
        "colab": {
          "base_uri": "https://localhost:8080/",
          "height": 56
        },
        "id": "e7YDNEOFtIrJ",
        "outputId": "adc37d54-736c-414b-d26e-f848652cbdd4"
      },
      "execution_count": null,
      "outputs": [
        {
          "output_type": "stream",
          "name": "stdout",
          "text": [
            "Matriks P_5 =\n"
          ]
        },
        {
          "output_type": "display_data",
          "data": {
            "text/plain": [
              "<IPython.core.display.Math object>"
            ],
            "text/latex": "$\\displaystyle \\left[\\begin{matrix}0.29812 & 0.40888 & 0.293\\end{matrix}\\right]$"
          },
          "metadata": {}
        }
      ]
    },
    {
      "cell_type": "markdown",
      "source": [
        "Peluang hari ke-6 dengan mengalikan kondisi hari ke-5 dengan matriks transisi:\n",
        "\n",
        "𝑃\n",
        "5\n",
        "=\n",
        "𝑃\n",
        "4\n",
        "×\n",
        "𝑃\n",
        "𝑃\n",
        "5\n",
        "=\n",
        "[ 0.3154 , 0.4042 , 0.2804 ]\n",
        "×\n",
        "[\n",
        "0.6\n",
        "0.3\n",
        "0.1\n",
        "0.2\n",
        "0.5\n",
        "0.3\n",
        "0.1\n",
        "0.4\n",
        "0.5\n",
        "]\n",
        "Hasil:\n",
        "\n",
        "𝑃\n",
        "5\n",
        "=\n",
        "[\n",
        "0.29812\n",
        ",\n",
        "0.40888\n",
        ",\n",
        "0.293\n",
        "]"
      ],
      "metadata": {
        "id": "dwoqsht0u2NG"
      }
    },
    {
      "cell_type": "code",
      "source": [
        "# Prediksi hari ke-7\n",
        "P_6 = dot(P_5, P)\n",
        "print(\"Matriks P_6 =\")\n",
        "P6 = dot(P0, P_6)\n",
        "display(Math(sym.latex(sym.simplify(P6))))"
      ],
      "metadata": {
        "colab": {
          "base_uri": "https://localhost:8080/",
          "height": 56
        },
        "id": "1yyQvPCLtKoL",
        "outputId": "1b138b12-180f-4c0e-e8df-c1a751aa9351"
      },
      "execution_count": null,
      "outputs": [
        {
          "output_type": "stream",
          "name": "stdout",
          "text": [
            "Matriks P_6 =\n"
          ]
        },
        {
          "output_type": "display_data",
          "data": {
            "text/plain": [
              "<IPython.core.display.Math object>"
            ],
            "text/latex": "$\\displaystyle \\left[\\begin{matrix}0.289948 & 0.411076 & 0.298976\\end{matrix}\\right]$"
          },
          "metadata": {}
        }
      ]
    },
    {
      "cell_type": "markdown",
      "source": [
        "Peluang hari ke-7 dengan mengalikan kondisi hari ke-6 dengan matriks transisi:\n",
        "\n",
        "𝑃\n",
        "6\n",
        "=\n",
        "𝑃\n",
        "5\n",
        "×\n",
        "𝑃\n",
        "𝑃\n",
        "6\n",
        "=\n",
        "[ 0.29812 , 0.40888 , 0.293 ]\n",
        "×\n",
        "[\n",
        "0.6\n",
        "0.3\n",
        "0.1\n",
        "0.2\n",
        "0.5\n",
        "0.3\n",
        "0.1\n",
        "0.4\n",
        "0.5\n",
        "]\n",
        "Hasil:\n",
        "\n",
        "𝑃\n",
        "6\n",
        "=\n",
        "[\n",
        "0.289948\n",
        ",\n",
        "0.411076\n",
        ",\n",
        "0.298976\n",
        "]"
      ],
      "metadata": {
        "id": "Kj95refHu-9o"
      }
    },
    {
      "cell_type": "code",
      "source": [
        "# Prediksi hari ke-8\n",
        "P_7 = dot(P_6, P)\n",
        "print(\"Matriks P_7 =\")\n",
        "P7 = dot(P0, P_7)\n",
        "display(Math(sym.latex(sym.simplify(P7))))"
      ],
      "metadata": {
        "colab": {
          "base_uri": "https://localhost:8080/",
          "height": 56
        },
        "id": "e2DZj2L0tn9N",
        "outputId": "95620d8a-53a4-4ccb-a9ad-982b4cb39d5b"
      },
      "execution_count": null,
      "outputs": [
        {
          "output_type": "stream",
          "name": "stdout",
          "text": [
            "Matriks P_7 =\n"
          ]
        },
        {
          "output_type": "display_data",
          "data": {
            "text/plain": [
              "<IPython.core.display.Math object>"
            ],
            "text/latex": "$\\displaystyle \\left[\\begin{matrix}0.2860816 & 0.4121128 & 0.3018056\\end{matrix}\\right]$"
          },
          "metadata": {}
        }
      ]
    },
    {
      "cell_type": "markdown",
      "source": [
        "Peluang hari ke-8 dengan mengalikan kondisi hari ke-7 dengan matriks transisi:\n",
        "\n",
        "𝑃\n",
        "7\n",
        "=\n",
        "𝑃\n",
        "6\n",
        "×\n",
        "𝑃\n",
        "𝑃\n",
        "7\n",
        "=\n",
        " [ 0.289948 , 0.411076 , 0.298976 ]\n",
        "×\n",
        "[\n",
        "0.6\n",
        "0.3\n",
        "0.1\n",
        "0.2\n",
        "0.5\n",
        "0.3\n",
        "0.1\n",
        "0.4\n",
        "0.5\n",
        "]\n",
        "Hasil:\n",
        "\n",
        "𝑃\n",
        "7\n",
        "=\n",
        "[\n",
        "0.2860816\n",
        ",\n",
        "0.4121128\n",
        ",\n",
        "0.3018056\n",
        "]"
      ],
      "metadata": {
        "id": "DiopaWK_vt_j"
      }
    },
    {
      "cell_type": "code",
      "source": [
        "# Prediksi hari ke-9\n",
        "P_8 = dot(P_7, P)\n",
        "print(\"Matriks P_8 =\")\n",
        "P8 = dot(P0, P_8)\n",
        "display(Math(sym.latex(sym.simplify(P8))))"
      ],
      "metadata": {
        "colab": {
          "base_uri": "https://localhost:8080/",
          "height": 56
        },
        "id": "fDUJroE8tp8R",
        "outputId": "a917f33f-eca2-4274-ef06-56faa6a014d3"
      },
      "execution_count": null,
      "outputs": [
        {
          "output_type": "stream",
          "name": "stdout",
          "text": [
            "Matriks P_8 =\n"
          ]
        },
        {
          "output_type": "display_data",
          "data": {
            "text/plain": [
              "<IPython.core.display.Math object>"
            ],
            "text/latex": "$\\displaystyle \\left[\\begin{matrix}0.28425208 & 0.41260312 & 0.3031448\\end{matrix}\\right]$"
          },
          "metadata": {}
        }
      ]
    },
    {
      "cell_type": "markdown",
      "source": [
        "Peluang hari ke-9 dengan mengalikan kondisi hari ke-8 dengan matriks transisi:\n",
        "\n",
        "𝑃\n",
        "8\n",
        "=\n",
        "𝑃\n",
        "7\n",
        "×\n",
        "𝑃\n",
        "𝑃\n",
        "8\n",
        "=\n",
        "[ 0.2860816 , 0.4121128 , 0.3018056 ]\n",
        "×\n",
        "[\n",
        "0.6\n",
        "0.3\n",
        "0.1\n",
        "0.2\n",
        "0.5\n",
        "0.3\n",
        "0.1\n",
        "0.4\n",
        "0.5\n",
        "]\n",
        "Hasil:\n",
        "\n",
        "𝑃\n",
        "8\n",
        "=\n",
        "[\n",
        "0.28425208\n",
        ",\n",
        "0.41260312\n",
        ",\n",
        "0.3031448\n",
        "]"
      ],
      "metadata": {
        "id": "JbjraJjIv_rU"
      }
    },
    {
      "cell_type": "code",
      "source": [
        "# Prediksi hari ke-10\n",
        "P_9 = dot(P_8, P)\n",
        "print(\"Matriks P_9 =\")\n",
        "P9 = dot(P0, P_9)\n",
        "display(Math(sym.latex(sym.simplify(P9))))"
      ],
      "metadata": {
        "colab": {
          "base_uri": "https://localhost:8080/",
          "height": 56
        },
        "id": "w4kU4Sd-tsLs",
        "outputId": "15613be8-a7ba-4592-fc26-8cb316588f53"
      },
      "execution_count": null,
      "outputs": [
        {
          "output_type": "stream",
          "name": "stdout",
          "text": [
            "Matriks P_9 =\n"
          ]
        },
        {
          "output_type": "display_data",
          "data": {
            "text/plain": [
              "<IPython.core.display.Math object>"
            ],
            "text/latex": "$\\displaystyle \\left[\\begin{matrix}0.283386352 & 0.412835104 & 0.303778544\\end{matrix}\\right]$"
          },
          "metadata": {}
        }
      ]
    },
    {
      "cell_type": "markdown",
      "source": [
        "Peluang hari ke-10 dengan mengalikan kondisi hari ke-9 dengan matriks transisi:\n",
        "\n",
        "𝑃\n",
        "9\n",
        "=\n",
        "𝑃\n",
        "8\n",
        "×\n",
        "𝑃\n",
        "𝑃\n",
        "9\n",
        "=\n",
        "[ 0.28425208 , 0.41260312 , 0.3031448 ]\n",
        "×\n",
        "[\n",
        "0.6\n",
        "0.3\n",
        "0.1\n",
        "0.2\n",
        "0.5\n",
        "0.3\n",
        "0.1\n",
        "0.4\n",
        "0.5\n",
        "]\n",
        "Hasil:\n",
        "\n",
        "𝑃\n",
        "9\n",
        "=\n",
        "[\n",
        "0.283386532\n",
        ",\n",
        "0.412835104\n",
        ",\n",
        "0.303778544\n",
        "]"
      ],
      "metadata": {
        "id": "M0yucoZVwMH5"
      }
    },
    {
      "cell_type": "markdown",
      "source": [
        "Setelah itu mari kita munculkan hasilnya pada grafik"
      ],
      "metadata": {
        "id": "NzHUzzaftRX1"
      }
    },
    {
      "cell_type": "code",
      "source": [
        "# Menampilkan hasil prediksi dalam grafik\n",
        "figure(figsize=(10, 6))\n",
        "days = range(1, 11)  # 10 hari\n",
        "kosong = [P0[0], P1[0], P2[0], P3[0], P4[0], P5[0], P6[0], P7[0], P8[0], P9[0]]\n",
        "sedikit_antrean = [P0[1], P1[1], P2[1], P3[1], P4[1], P5[1], P6[1], P7[1], P8[1], P9[1]]\n",
        "banyak_antrean = [P0[2], P1[2], P2[2], P3[2], P4[2], P5[2], P6[2], P7[2], P8[2], P9[2]]\n",
        "\n",
        "plot(days, kosong, label='Kosong', marker='o')\n",
        "plot(days, sedikit_antrean, label='Sedikit Antrean', marker='o')\n",
        "plot(days, banyak_antrean, label='Banyak Antrean', marker='o')\n",
        "\n",
        "title('Simulasi Sistem Antrean di Restoran Menggunakan Rantai Markov (10 Hari)')\n",
        "xlabel('Hari')\n",
        "ylabel('Probabilitas')\n",
        "legend()\n",
        "grid(True)\n",
        "show()"
      ],
      "metadata": {
        "colab": {
          "base_uri": "https://localhost:8080/",
          "height": 564
        },
        "id": "Z5sK8OsHtXY0",
        "outputId": "e4de7db9-2c17-4329-b2d0-d6cab7825028"
      },
      "execution_count": 20,
      "outputs": [
        {
          "output_type": "display_data",
          "data": {
            "text/plain": [
              "<Figure size 1000x600 with 1 Axes>"
            ],
            "image/png": "[encoded data removed]"
          },
          "metadata": {}
        }
      ]
    },
    {
      "cell_type": "code",
      "source": [
        "# Mencari Titik Equilibrium\n",
        "eigenvalues, eigenvectors = eig(P.T)\n",
        "steady_state = eigenvectors[:, isclose(eigenvalues, 1)]\n",
        "\n",
        "# Normalisasi agar jumlah probabilitasnya 1\n",
        "steady_state = steady_state / steady_state.sum(axis=0)\n",
        "print(\"Steady State Vector =\")\n",
        "display(Math(sym.latex(sym.simplify(steady_state))))\n",
        "\n",
        "# Verifikasi Equilibrium\n",
        "equilibrium = dot(steady_state.T, P)\n",
        "print(\"Equilibrium Verification =\")\n",
        "display(Math(sym.latex(sym.simplify(equilibrium))))"
      ],
      "metadata": {
        "colab": {
          "base_uri": "https://localhost:8080/",
          "height": 134
        },
        "id": "xgcjcmRCzOnx",
        "outputId": "aa2fbb22-bdbf-42e2-e284-bb158a35ac4f"
      },
      "execution_count": 23,
      "outputs": [
        {
          "output_type": "stream",
          "name": "stdout",
          "text": [
            "Steady State Vector =\n"
          ]
        },
        {
          "output_type": "display_data",
          "data": {
            "text/plain": [
              "<IPython.core.display.Math object>"
            ],
            "text/latex": "$\\displaystyle \\left[\\begin{matrix}0.282608695652174\\\\0.413043478260869\\\\0.304347826086957\\end{matrix}\\right]$"
          },
          "metadata": {}
        },
        {
          "output_type": "stream",
          "name": "stdout",
          "text": [
            "Equilibrium Verification =\n"
          ]
        },
        {
          "output_type": "display_data",
          "data": {
            "text/plain": [
              "<IPython.core.display.Math object>"
            ],
            "text/latex": "$\\displaystyle \\left[\\left[\\begin{matrix}0.282608695652174 & 0.41304347826087 & 0.304347826086956\\end{matrix}\\right]\\right]$"
          },
          "metadata": {}
        }
      ]
    },
    {
      "cell_type": "markdown",
      "source": [
        "Dari perhitungan probabilitas jangka panjang di atas didapatkan bahwa kondisi seimbang/stabil (Steady State) dihasilkan pada saat probabilitasnya pada kondisi [0,28 0,41, 0.30 ]."
      ],
      "metadata": {
        "id": "xwgFy40jxSTF"
      }
    },
    {
      "cell_type": "markdown",
      "source": [
        "**Referensi**\n",
        "\n",
        "https://colab.research.google.com/drive/1CUOC1ee4nCnU5FuyDRSK--3HLtKcy62G?usp=sharing#scrollTo=99C30AfZ0tdW"
      ],
      "metadata": {
        "id": "trknzUjZxpZ3"
      }
    },
    {
      "cell_type": "markdown",
      "source": [
        "**Dega Megananda Putra - 301220060**"
      ],
      "metadata": {
        "id": "k8EzS9JjyKXl"
      }
    }
  ]
}